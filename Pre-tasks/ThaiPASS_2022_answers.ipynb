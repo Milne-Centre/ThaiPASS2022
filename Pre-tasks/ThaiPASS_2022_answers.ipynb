{
 "cells": [
  {
   "cell_type": "markdown",
   "metadata": {},
   "source": [
    "# Pre ThaiPASS exercise\n",
    "\n",
    "This purpose of this notebook is to check that you have python set up correctly on your computer. It contains a set of tasks you can complete with the aid of the MOOC tutorials."
   ]
  },
  {
   "cell_type": "markdown",
   "metadata": {},
   "source": [
    "## Step 1: some basic set up\n",
    "\n",
    "Before we get started on working with some data, we need to tell python what modules (sets of specfic commands for certains tasks, like plotting graphs) we want to use. Run the following command to **import** the module **numpy**."
   ]
  },
  {
   "cell_type": "code",
   "execution_count": 1,
   "metadata": {},
   "outputs": [],
   "source": [
    "import numpy as np"
   ]
  },
  {
   "cell_type": "markdown",
   "metadata": {},
   "source": [
    "I chose the **as** command so I could give the module a shorthand name to save me typing out 'numpy' each time.\n",
    "\n",
    "## Step 2: load in some data\n",
    "\n",
    "With this notebook you should also have obtained a file SolarElements.txt. These are the abundances of all the elements found at the surface of our Sun. We need to load this data into python, so run the following commands:"
   ]
  },
  {
   "cell_type": "code",
   "execution_count": 2,
   "metadata": {},
   "outputs": [],
   "source": [
    "import re\n",
    "\n",
    "solar_file = open('SolarElements.txt','r')\n",
    "\n",
    "SolarData = []\n",
    "while True:\n",
    "    line = solar_file.readline()\n",
    "    if not line:\n",
    "        break\n",
    "    line = re.findall('\\S+',line)\n",
    "    SolarData.append(line)\n",
    "\n",
    "solar_file.close()"
   ]
  },
  {
   "cell_type": "markdown",
   "metadata": {},
   "source": [
    "Each entry in the _list_ SolarData is itself a separate _list_ containing three items: 1) the chemical symbol of the element, 2) the atomic (proton) number of the element and 3) the mass fraction (or abundance) of that element.\n",
    "\n",
    "We're now going to split the data up into three separate lists, containing the element symbol, the proton number and the abundance. We use a for loop to do this:"
   ]
  },
  {
   "cell_type": "code",
   "execution_count": 3,
   "metadata": {},
   "outputs": [],
   "source": [
    "Element = []\n",
    "\n",
    "Proton_no = []\n",
    "\n",
    "Abundance = []\n",
    "\n",
    "for i in range(len(SolarData)):\n",
    "    Element.append(SolarData[i][0])\n",
    "    Proton_no.append(int(SolarData[i][1]))\n",
    "    Abundance.append(float(SolarData[i][2]))"
   ]
  },
  {
   "cell_type": "markdown",
   "metadata": {},
   "source": [
    "Note that the nth entry of each list corresponds to the same element. You can check this for yourself, by e.g. finding which element of the list is carbon, and checking that this same index gives you a proton number of 6."
   ]
  },
  {
   "cell_type": "markdown",
   "metadata": {},
   "source": [
    "## Step 3: Over to you!\n",
    "\n",
    "Now its time for you to manipulate the data using python. Try answering the following questions, writing your answers into the cells provided.\n",
    "\n",
    "### Question 1:\n",
    "What is the sum of all the abundances in the Sun?"
   ]
  },
  {
   "cell_type": "code",
   "execution_count": 4,
   "metadata": {},
   "outputs": [
    {
     "data": {
      "text/plain": [
       "0.9998999998726331"
      ]
     },
     "execution_count": 4,
     "metadata": {},
     "output_type": "execute_result"
    }
   ],
   "source": [
    "sum(Abundance)"
   ]
  },
  {
   "cell_type": "markdown",
   "metadata": {},
   "source": [
    "### Question 2: \n",
    "Showing your code, use python to find the largest and smallest abundances in the Sun. Which elements are these?"
   ]
  },
  {
   "cell_type": "code",
   "execution_count": 5,
   "metadata": {},
   "outputs": [
    {
     "data": {
      "text/plain": [
       "'H'"
      ]
     },
     "execution_count": 5,
     "metadata": {},
     "output_type": "execute_result"
    }
   ],
   "source": [
    "Element[Abundance.index(max(Abundance))]"
   ]
  },
  {
   "cell_type": "code",
   "execution_count": 6,
   "metadata": {},
   "outputs": [
    {
     "data": {
      "text/plain": [
       "'U'"
      ]
     },
     "execution_count": 6,
     "metadata": {},
     "output_type": "execute_result"
    }
   ],
   "source": [
    "Element[Abundance.index(min(Abundance))]"
   ]
  },
  {
   "cell_type": "markdown",
   "metadata": {},
   "source": [
    "### Question 3:\n",
    "\n",
    "Plot up the Solar abundances as a function of proton number. You will need to **import** the **matplotlib.pyplot** library in order to do this (just like we did with **numpy** at the start of this exercise). You should give it a convenient shorthand name, such as **plt**. You will need to set a logarithmic scale for the abundances. Don't forget to label your axes!"
   ]
  },
  {
   "cell_type": "code",
   "execution_count": 9,
   "metadata": {},
   "outputs": [
    {
     "data": {
      "image/png": "[encoded data removed]",
      "text/plain": [
       "<Figure size 432x288 with 1 Axes>"
      ]
     },
     "metadata": {
      "needs_background": "light"
     },
     "output_type": "display_data"
    }
   ],
   "source": [
    "import matplotlib.pyplot as plt\n",
    "\n",
    "plt.plot(Proton_no, Abundance)\n",
    "plt.xlabel(\"Proton Number\")\n",
    "plt.ylabel(\"Abundance\")\n",
    "plt.yscale(\"log\")\n",
    "\n",
    "\n",
    "plt.xlim(1,92)\n",
    "plt.show()\n",
    "#plt.savefig(\"Solar_zoom.eps\")"
   ]
  },
  {
   "cell_type": "markdown",
   "metadata": {},
   "source": [
    "### Question 4:\n",
    "\n",
    "In the above plot, you should notice there is a peak in the abundances between Z=20 and Z=40. Use python to find this abundance, and work out which element this is. You will learn why this peak exists during the school!"
   ]
  },
  {
   "cell_type": "code",
   "execution_count": 8,
   "metadata": {},
   "outputs": [
    {
     "name": "stdout",
     "output_type": "stream",
     "text": [
      "0.001374147\n"
     ]
    },
    {
     "data": {
      "text/plain": [
       "'Fe'"
      ]
     },
     "execution_count": 8,
     "metadata": {},
     "output_type": "execute_result"
    }
   ],
   "source": [
    "ElementShort = Element[19:40]\n",
    "AbundanceShort = Abundance[19:40]\n",
    "\n",
    "print(max(AbundanceShort))\n",
    "ElementShort[AbundanceShort.index(max(AbundanceShort))]"
   ]
  },
  {
   "cell_type": "markdown",
   "metadata": {},
   "source": [
    "### Question 5:\n",
    "\n",
    "Use Python to list the 7 most abundant elements between Z = 8 and Z = 20. What are the values of Z for these 10 elements? What do you notice? (Hint: this gives us a clue about how some of these elements are made in stars!)"
   ]
  },
  {
   "cell_type": "code",
   "execution_count": 31,
   "metadata": {},
   "outputs": [
    {
     "name": "stdout",
     "output_type": "stream",
     "text": [
      "O 8\n",
      "Ne 10\n",
      "Mg 12\n",
      "Si 14\n",
      "S 16\n",
      "Ar 18\n",
      "Ca 20\n"
     ]
    }
   ],
   "source": [
    "ElementShort = Element[7:20]\n",
    "AbundanceShort = Abundance[7:20]\n",
    "\n",
    "zipped = zip(AbundanceShort, ElementShort)\n",
    "\n",
    "zipped=sorted(zipped)\n",
    "\n",
    "for i in range(-1,-8,-1):\n",
    "    El = zipped[i][1]\n",
    "    print(zipped[i][1], Proton_no[Element.index(El)])"
   ]
  },
  {
   "cell_type": "markdown",
   "metadata": {},
   "source": [
    "The proton number increases by two each time -- these elements are formed by adding helium nuclei on to existing nuclei."
   ]
  },
  {
   "cell_type": "markdown",
   "metadata": {},
   "source": [
    "### Question 6:\n",
    "\n",
    "a) What is the total abundance of all elements between carbon (Z=6) and nickel (Z = 28)?"
   ]
  },
  {
   "cell_type": "code",
   "execution_count": 32,
   "metadata": {},
   "outputs": [
    {
     "data": {
      "text/plain": [
       "0.0141965326074"
      ]
     },
     "execution_count": 32,
     "metadata": {},
     "output_type": "execute_result"
    }
   ],
   "source": [
    "sum(Abundance[5:28])\n",
    "# note the index choices index = Z - 1, but slices go up to but do not include the second number."
   ]
  },
  {
   "cell_type": "markdown",
   "metadata": {},
   "source": [
    "b) What is the total abundance of all elements between krypton (Z=36) and lead (Z = 82)?"
   ]
  },
  {
   "cell_type": "code",
   "execution_count": 33,
   "metadata": {},
   "outputs": [
    {
     "data": {
      "text/plain": [
       "3.6039622850000005e-07"
      ]
     },
     "execution_count": 33,
     "metadata": {},
     "output_type": "execute_result"
    }
   ],
   "source": [
    "sum(Abundance[35:82])"
   ]
  },
  {
   "cell_type": "markdown",
   "metadata": {},
   "source": [
    "You should find that the second answer is much smaller than the first. It is much more difficult to make heavy elements."
   ]
  },
  {
   "cell_type": "code",
   "execution_count": null,
   "metadata": {},
   "outputs": [],
   "source": []
  }
 ],
 "metadata": {
  "kernelspec": {
   "display_name": "Python 3",
   "language": "python",
   "name": "python3"
  },
  "language_info": {
   "codemirror_mode": {
    "name": "ipython",
    "version": 3
   },
   "file_extension": ".py",
   "mimetype": "text/x-python",
   "name": "python",
   "nbconvert_exporter": "python",
   "pygments_lexer": "ipython3",
   "version": "3.7.1"
  }
 },
 "nbformat": 4,
 "nbformat_minor": 2
}
