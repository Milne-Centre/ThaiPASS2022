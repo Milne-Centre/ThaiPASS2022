{
 "metadata": {
  "language_info": {
   "codemirror_mode": {
    "name": "ipython",
    "version": 3
   },
   "file_extension": ".py",
   "mimetype": "text/x-python",
   "name": "python",
   "nbconvert_exporter": "python",
   "pygments_lexer": "ipython3",
   "version": "3.9.5"
  },
  "orig_nbformat": 2,
  "kernelspec": {
   "name": "python395jvsc74a57bd05984c07bd85a09704efeebc43c280456997f3d9e1810f10980d19f89f173e200",
   "display_name": "Python 3.9.5 64-bit"
  },
  "metadata": {
   "interpreter": {
    "hash": "767d51c1340bd893661ea55ea3124f6de3c7a262a8b4abca0554b478b1e2ff90"
   }
  }
 },
 "nbformat": 4,
 "nbformat_minor": 2,
 "cells": [
  {
   "source": [
    "# EXOPLANETS\n",
    "\n",
    "The goal of this project is to understand how we detect exoplanets using the transit method, and how we can calculate their properties.  There are 4 different parts:\n",
    "\n",
    "### EXOPLANETS I: Kepler's laws: Solar System & Exoplanets\n",
    "\n",
    "You will learn about how to use Kepler's 3rd law to connect the distance of a planet from its host star with the period of the planet.\n",
    "\n",
    "### EXOPLANETS II: Habitable zone around a star\n",
    "\n",
    "You will learn about how to calculate the boundaries of the zone around a star where life may exist.\n",
    "\n",
    "### EXOPLANETS III: Exoplanet transit modelling\n",
    "\n",
    "You will use a given transit model to plot transit curves for different planet parameters and see how the properties of the planet affect the transit curve.\n",
    "\n",
    "### EXOPLANETS IV: Finding planets in transit data from the Kepler mission\n",
    "\n",
    "This is the most exciting part: you will use data from NASA's [Kepler space mission](https://www.nasa.gov/mission_pages/kepler/overview/index.html) to discover exoplanets and find their properties. Then you will check if any of the planets you discovered can support life.\n",
    "\n",
    "There are quite a few tasks to complete. ***The ones that are labeled as \"optional\" will not be marked***. If you have time you can do them too, but you do not have to include them in your answers. They are there to help your understanding.\n",
    "\n",
    "\n"
   ],
   "cell_type": "markdown",
   "metadata": {}
  },
  {
   "source": [
    "# EXOPLANETS I: Kepler's laws: Solar System & Exoplanets\n",
    "\n",
    "## Kepler's laws of planetary motion\n",
    "\n",
    "They describe the motions of the planets in the Solar System. They were formulated by Kepler in the 1600's (see Wikipedia article)\n",
    "\n",
    "### 1st law\n",
    "\n",
    "The orbit of every planet is an ellipse with the Sun at one of the two foci. \n",
    "\n",
    "### 2nd law\n",
    "\n",
    "A line joining a planet and the Sun sweeps out equal areas during equal time intervals\n",
    "\n",
    "\n",
    "### 3rd law\n",
    "\n",
    "The ratio of the square of an object's orbital period with the cube of the semi-major axis of its orbit is the same for all objects orbiting the same primary.\n",
    "\n",
    "### $P^2=\\frac{4\\pi^2 a^3}{GM}$\n",
    "\n",
    "where P is the period of the planet (how much time it takes to do one rotation around the star), G is the universal gravitational constant, M is the mass of the host star and a is the semi-major axis of the planet orbit (i.e. the distance from the star for a circular orbit).\n",
    "\n",
    "The above laws hold for the Solar System and for extrasolar systems. In our System we set $M=1M_\\odot$ (the mass of the Sun).\n",
    "\n",
    "If we apply the above equation for the Earth we obtain:\n",
    "\n",
    "### $P_\\oplus^2=\\frac{4\\pi^2 a_\\oplus^3}{GM_\\odot}$\n",
    "\n",
    "In the general case of a planet around a star with mass $M_\\star$, we have \n",
    "\n",
    "### $P^2=\\frac{4\\pi^2 a^3}{GM\\star}$\n",
    "\n",
    "Dividing by parts the previous two equations we get:\n",
    "\n",
    "### $\\left(\\frac{P}{P_\\oplus}\\right)^2=\\left(\\frac{a}{a_\\oplus}\\right)^3 \\left(\\frac{M_\\star}{M_\\odot}\\right)^{-1}$\n",
    "\n",
    "However $a_\\oplus$=1 AU (where AU is the astronomical unit, i.e. the distance between Earth and Sun) and $P=1 $yr (year). Therefore, the above  equation can be written in the simple form by using years as the time unit, AU the distance unit and $M_\\odot$ the mass unit:\n",
    "\n",
    "### $P^2=a^3/M_\\star$. \n",
    "\n",
    "This equation can be used to determine the distance of a planet from its host star if we can determine its period.\n",
    "\n",
    "Note that the mass of the planet does appear in the above equation which means that if a more massive planet (e.g. Jupiter) was on Earth's orbit it would have the same period (i.e. rotate around the Sun with the same speed as Earth)."
   ],
   "cell_type": "markdown",
   "metadata": {}
  },
  {
   "source": [
    "## Task Ia (Optional)\n",
    "\n",
    "Define a function that returns the distance of a planet from its host star  from its period $P$ and the mass $M$ of the star (input units should be years and AU; output units AU). Don't forget to import the relevant packages (numpy and matplotlib.pyplot)"
   ],
   "cell_type": "markdown",
   "metadata": {}
  },
  {
   "source": [
    "## Task Ib (Optional)\n",
    "\n",
    "Use this function, make a numpy array that has the semi major axis of planets with orbital periods between 1 days and 5 years (every 0.1 yr) for stars between 0.1 and 2 times the mass of the Sun (for 5 values between 0.1 and 2).  Plot the semi-major axis versus the period (label the axis and give title to the plot), using logarithmic axes."
   ],
   "cell_type": "markdown",
   "metadata": {}
  },
  {
   "source": [
    "## Question Ia (Optional)\n",
    "\n",
    "From the graph that you made what can you say about the observability of exoplanets for space missions using the transit method, i.e. is it easier to observe exoplanets using transits around low-mass or high-mass stars?"
   ],
   "cell_type": "markdown",
   "metadata": {}
  },
  {
   "source": [
    "# EXOPLANETS II: Habitable zone around a star\n",
    "\n",
    "The habitable zone of a star is defined as the region around the star in which a planet has the right temperature for maintain liquid water. We currently think that water is necessary for the development of life.\n",
    "\n",
    "Water is in liquid form at temperatures between 0 and 100 degrees Celcius or equivalently between 273K and 473K (degrees Kelvin).\n",
    "\n",
    "The equilibrium temperature of tha planet is determined by considering the energy balance between the stellar radiation absorbed by the planet and the radiation emitted by the planet. \n",
    "\n",
    "If  $L_\\star$ is the luminosity of a star (energy emitted per unit time), then the flux (energy per unit time and unit area) that arrives at the planet is\n",
    "### $F=\\frac{L_\\star}{4\\pi a^2}$.\n",
    "\n",
    "Only one side of the planet is facing the star, so the projected area that abdsorbes radiation is: $\\pi R_p^2$, where $R_p$ is the radius of the planet.\n",
    "\n",
    "The albedo $A$ of a planet determined waht fraction of the incident radiation is reflected $A=1$ means all the incident radiation is reflected, whereas $A=0.7$ means that 30% of the incident radiation is absorbed. Then the absorded energy per unit time from the planet is \n",
    "\n",
    "### $L_{\\rm abs}= \\pi R_p^2 (1-A)\\frac{L_\\star}{4\\pi a^2}$\n",
    "\n",
    "The energy emitted per unit time from the planet is given by the  Stefan-Boltzmann law:\n",
    "\n",
    "### $L_{\\rm em}=4\\pi R_p^2 \\sigma T_p^4$, \n",
    "\n",
    "where $\\sigma$ is the  Stefan-Boltzmann constant.\n",
    "\n",
    "At *thermal equilbrium* absorbed and emitted must be the same, so the equilibrium temperature of a planet is\n",
    "\n",
    "### $T_p=\\left[\\frac{(1-A) L_\\star}{16\\pi\\sigma a^2}\\right]^{1/4}$\n",
    "\n",
    "Solving the above for $a$ we can find the distance from the star where the planet has a specific temperature $T_p$:\n",
    "\n",
    "### $a=\\left[\\frac{(1-A) L_\\star}{16\\pi\\sigma}\\right]^{1/2} T_p^{-2}$.\n",
    "\n",
    "From this equation we can then calculate the inner boundary $a_{\\rm inner}$ and outer boundary $a_{\\rm outer}$ of the habitable zone, i.e. the distance from the star where the planet temperature is between 273 and 373K. Note that $L_\\star$ needs to be put in SI units in this equation and it will return the distance in m (again SI units)."
   ],
   "cell_type": "markdown",
   "metadata": {}
  },
  {
   "source": [
    "## Task IIa\n",
    "\n",
    "Make a graph with the mass of the star $M_\\star$ (in solar masses) versus  $a_{\\rm inner}$ and $a_{\\rm outer}$ (in AU) that shows the boundaries (inner and outer) of the habitable zone around stars with masses from 0.1 to 2 times the mass of the Sun. \n",
    "\n",
    "Hint: Define a function that returns the distance of  planet from a star that a planet has a specific tempature (for a given stellar mass and albedo), i.e. boundary(mstar, albedo, temp). Then $a_{\\rm inner}$ is the distance where the temperature is set to 273K, whereas $a_{\\rm outer}$ is the distance where the planet temperature is set to 373K.  Assume that the albedo of the planet is $A=0.36$ (this is Earth's albedo).\n",
    "\n",
    "You will also need to use the fact that the luminosity $L$ of the star is connected to its mass with the so called *mass-luminosity relation*:\n",
    "\n",
    "### $L=M^3$\n",
    "\n",
    "where the luminosity of the star needs to be in Solar luminosities and the mass of the star in Solar masses.\n",
    "\n",
    "###Constants\n",
    "\n",
    "$L_\\odot=3.84\\times 10^{26}\\ {\\rm W}$ (SI units)\n",
    "\n",
    "$\\sigma=5.67 \\times 10^{-8}\\ {\\rm W m^{-2} ~K^{-4}}$ (SI units)\n",
    "\n",
    "$1AU=1.496\\times 10^{11} {\\rm m}$ (SI units)\n",
    "\n",
    "Don't forget to label your axes, put title, and legends for the different lines plotted.\n",
    "\n",
    "After you make the graph plot the Earth on it. What do you observe? How can you explain this?"
   ],
   "cell_type": "markdown",
   "metadata": {}
  },
  {
   "source": [
    "# EXOPLANETS III: Exoplanet transit modelling\n",
    "\n",
    "*Transits* happen when an exoplanetary system has the right orienation so that the exoplanet passes in front of its host star. This results to a dimming in the brightness of the star. \n",
    "\n",
    "![transit](transit.gif)"
   ],
   "cell_type": "markdown",
   "metadata": {}
  },
  {
   "source": [
    "## Exoplanet properties from transits\n",
    "\n",
    "We can find some of the exoplanet properties by looking at the transit curves\n",
    "\n",
    "### Exoplanet period\n",
    "\n",
    "The time between two successive transits gives us the period of the exoplanet around its star\n",
    "\n",
    "![period](hatp7period.png)\n",
    "\n",
    "### Exoplanet radius\n",
    "\n",
    "The depth of the transit gives us the radius of the exoplanet\n",
    "\n",
    "## $R_p=R_\\star *\\sqrt{depth}$\n",
    "\n",
    "In the example below the depth is 0.007 (from 1 to 0.993), i.e. 0.7%. Therefore the radius of the planet is \n",
    "$R_p=R_\\star *\\sqrt{0.007}=0.08 R_\\star$\n",
    "\n",
    "![depth](hatp7depth.png)"
   ],
   "cell_type": "markdown",
   "metadata": {}
  },
  {
   "source": [
    "\n",
    "Here we will use a transit model to see the effect of different parameters on the transit curve. First we will import some packages:"
   ],
   "cell_type": "markdown",
   "metadata": {}
  },
  {
   "cell_type": "code",
   "execution_count": 1,
   "metadata": {},
   "outputs": [],
   "source": [
    "# Import some python basic  modules\n",
    "import numpy as np\n",
    "import matplotlib.pyplot as plt\n",
    "\n",
    "# Import the module that has the transit model (forTrans)\n",
    "from PyAstronomy.modelSuite import forTrans as ft"
   ]
  },
  {
   "source": [
    "We will use the fuction MandelAgolLC to plot different transit curves. The code below sets some parameters for the planet and then plots the relative flux of the star (energy per unit time and unit area). When the relative flux is 1 then the planet does not block the light from the star. When the relative flux is say 0.95, it means that the planet blocks 5% of the stellar light. Study the code to understand the meaning of the input parameters (you can modify some parameters are re-run the kernel to see what happens)."
   ],
   "cell_type": "markdown",
   "metadata": {}
  },
  {
   "cell_type": "code",
   "execution_count": 2,
   "metadata": {},
   "outputs": [
    {
     "output_type": "display_data",
     "data": {
      "text/plain": "<Figure size 432x288 with 1 Axes>",
      "image/svg+xml": "<?xml version=\"1.0\" encoding=\"utf-8\" standalone=\"no\"?>\n<!DOCTYPE svg PUBLIC \"-//W3C//DTD SVG 1.1//EN\"\n  \"http://www.w3.org/Graphics/SVG/1.1/DTD/svg11.dtd\">\n<svg height=\"284.432969pt\" version=\"1.1\" viewBox=\"0 0 403.345313 284.432969\" width=\"403.345313pt\" xmlns=\"http://www.w3.org/2000/svg\" xmlns:xlink=\"http://www.w3.org/1999/xlink\">\n <metadata>\n  <rdf:RDF xmlns:cc=\"http://creativecommons.org/ns#\" xmlns:dc=\"http://purl.org/dc/elements/1.1/\" xmlns:rdf=\"http://www.w3.org/1999/02/22-rdf-syntax-ns#\">\n   <cc:Work>\n    <dc:type rdf:resource=\"http://purl.org/dc/dcmitype/StillImage\"/>\n    <dc:date>2021-05-10T21:05:46.866286</dc:date>\n    <dc:format>image/svg+xml</dc:format>\n    <dc:creator>\n     <cc:Agent>\n      <dc:title>Matplotlib v3.4.2, https://matplotlib.org/</dc:title>\n     </cc:Agent>\n    </dc:creator>\n   </cc:Work>\n  </rdf:RDF>\n </metadata>\n <defs>\n  <style type=\"text/css\">*{stroke-linecap:butt;stroke-linejoin:round;}</style>\n </defs>\n <g id=\"figure_1\">\n  <g id=\"patch_1\">\n   <path d=\"M 0 284.432969 \nL 403.345313 284.432969 \nL 403.345313 0 \nL 0 0 \nz\n\" style=\"fill:none;\"/>\n  </g>\n  <g id=\"axes_1\">\n   <g id=\"patch_2\">\n    <path d=\"M 61.345313 242.037656 \nL 396.145312 242.037656 \nL 396.145312 24.597656 \nL 61.345313 24.597656 \nz\n\" style=\"fill:#ffffff;\"/>\n   </g>\n   <g id=\"matplotlib.axis_1\">\n    <g id=\"xtick_1\">\n     <g id=\"line2d_1\">\n      <path clip-path=\"url(#p76d81a40a8)\" d=\"M 76.563494 242.037656 \nL 76.563494 24.597656 \n\" style=\"fill:none;stroke:#808080;stroke-dasharray:0.2,0.33;stroke-dashoffset:0;stroke-width:0.2;\"/>\n     </g>\n     <g id=\"line2d_2\">\n      <defs>\n       <path d=\"M 0 0 \nL 0 3.5 \n\" id=\"ma701864fd2\" style=\"stroke:#000000;stroke-width:0.8;\"/>\n      </defs>\n      <g>\n       <use style=\"stroke:#000000;stroke-width:0.8;\" x=\"76.563494\" xlink:href=\"#ma701864fd2\" y=\"242.037656\"/>\n      </g>\n     </g>\n     <g id=\"text_1\">\n      <!-- 0 -->\n      <g transform=\"translate(73.382244 256.636094)scale(0.1 -0.1)\">\n       <defs>\n        <path d=\"M 2034 4250 \nQ 1547 4250 1301 3770 \nQ 1056 3291 1056 2328 \nQ 1056 1369 1301 889 \nQ 1547 409 2034 409 \nQ 2525 409 2770 889 \nQ 3016 1369 3016 2328 \nQ 3016 3291 2770 3770 \nQ 2525 4250 2034 4250 \nz\nM 2034 4750 \nQ 2819 4750 3233 4129 \nQ 3647 3509 3647 2328 \nQ 3647 1150 3233 529 \nQ 2819 -91 2034 -91 \nQ 1250 -91 836 529 \nQ 422 1150 422 2328 \nQ 422 3509 836 4129 \nQ 1250 4750 2034 4750 \nz\n\" id=\"DejaVuSans-30\" transform=\"scale(0.015625)\"/>\n       </defs>\n       <use xlink:href=\"#DejaVuSans-30\"/>\n      </g>\n     </g>\n    </g>\n    <g id=\"xtick_2\">\n     <g id=\"line2d_3\">\n      <path clip-path=\"url(#p76d81a40a8)\" d=\"M 114.608949 242.037656 \nL 114.608949 24.597656 \n\" style=\"fill:none;stroke:#808080;stroke-dasharray:0.2,0.33;stroke-dashoffset:0;stroke-width:0.2;\"/>\n     </g>\n     <g id=\"line2d_4\">\n      <g>\n       <use style=\"stroke:#000000;stroke-width:0.8;\" x=\"114.608949\" xlink:href=\"#ma701864fd2\" y=\"242.037656\"/>\n      </g>\n     </g>\n     <g id=\"text_2\">\n      <!-- 1 -->\n      <g transform=\"translate(111.427699 256.636094)scale(0.1 -0.1)\">\n       <defs>\n        <path d=\"M 794 531 \nL 1825 531 \nL 1825 4091 \nL 703 3866 \nL 703 4441 \nL 1819 4666 \nL 2450 4666 \nL 2450 531 \nL 3481 531 \nL 3481 0 \nL 794 0 \nL 794 531 \nz\n\" id=\"DejaVuSans-31\" transform=\"scale(0.015625)\"/>\n       </defs>\n       <use xlink:href=\"#DejaVuSans-31\"/>\n      </g>\n     </g>\n    </g>\n    <g id=\"xtick_3\">\n     <g id=\"line2d_5\">\n      <path clip-path=\"url(#p76d81a40a8)\" d=\"M 152.654403 242.037656 \nL 152.654403 24.597656 \n\" style=\"fill:none;stroke:#808080;stroke-dasharray:0.2,0.33;stroke-dashoffset:0;stroke-width:0.2;\"/>\n     </g>\n     <g id=\"line2d_6\">\n      <g>\n       <use style=\"stroke:#000000;stroke-width:0.8;\" x=\"152.654403\" xlink:href=\"#ma701864fd2\" y=\"242.037656\"/>\n      </g>\n     </g>\n     <g id=\"text_3\">\n      <!-- 2 -->\n      <g transform=\"translate(149.473153 256.636094)scale(0.1 -0.1)\">\n       <defs>\n        <path d=\"M 1228 531 \nL 3431 531 \nL 3431 0 \nL 469 0 \nL 469 531 \nQ 828 903 1448 1529 \nQ 2069 2156 2228 2338 \nQ 2531 2678 2651 2914 \nQ 2772 3150 2772 3378 \nQ 2772 3750 2511 3984 \nQ 2250 4219 1831 4219 \nQ 1534 4219 1204 4116 \nQ 875 4013 500 3803 \nL 500 4441 \nQ 881 4594 1212 4672 \nQ 1544 4750 1819 4750 \nQ 2544 4750 2975 4387 \nQ 3406 4025 3406 3419 \nQ 3406 3131 3298 2873 \nQ 3191 2616 2906 2266 \nQ 2828 2175 2409 1742 \nQ 1991 1309 1228 531 \nz\n\" id=\"DejaVuSans-32\" transform=\"scale(0.015625)\"/>\n       </defs>\n       <use xlink:href=\"#DejaVuSans-32\"/>\n      </g>\n     </g>\n    </g>\n    <g id=\"xtick_4\">\n     <g id=\"line2d_7\">\n      <path clip-path=\"url(#p76d81a40a8)\" d=\"M 190.699858 242.037656 \nL 190.699858 24.597656 \n\" style=\"fill:none;stroke:#808080;stroke-dasharray:0.2,0.33;stroke-dashoffset:0;stroke-width:0.2;\"/>\n     </g>\n     <g id=\"line2d_8\">\n      <g>\n       <use style=\"stroke:#000000;stroke-width:0.8;\" x=\"190.699858\" xlink:href=\"#ma701864fd2\" y=\"242.037656\"/>\n      </g>\n     </g>\n     <g id=\"text_4\">\n      <!-- 3 -->\n      <g transform=\"translate(187.518608 256.636094)scale(0.1 -0.1)\">\n       <defs>\n        <path d=\"M 2597 2516 \nQ 3050 2419 3304 2112 \nQ 3559 1806 3559 1356 \nQ 3559 666 3084 287 \nQ 2609 -91 1734 -91 \nQ 1441 -91 1130 -33 \nQ 819 25 488 141 \nL 488 750 \nQ 750 597 1062 519 \nQ 1375 441 1716 441 \nQ 2309 441 2620 675 \nQ 2931 909 2931 1356 \nQ 2931 1769 2642 2001 \nQ 2353 2234 1838 2234 \nL 1294 2234 \nL 1294 2753 \nL 1863 2753 \nQ 2328 2753 2575 2939 \nQ 2822 3125 2822 3475 \nQ 2822 3834 2567 4026 \nQ 2313 4219 1838 4219 \nQ 1578 4219 1281 4162 \nQ 984 4106 628 3988 \nL 628 4550 \nQ 988 4650 1302 4700 \nQ 1616 4750 1894 4750 \nQ 2613 4750 3031 4423 \nQ 3450 4097 3450 3541 \nQ 3450 3153 3228 2886 \nQ 3006 2619 2597 2516 \nz\n\" id=\"DejaVuSans-33\" transform=\"scale(0.015625)\"/>\n       </defs>\n       <use xlink:href=\"#DejaVuSans-33\"/>\n      </g>\n     </g>\n    </g>\n    <g id=\"xtick_5\">\n     <g id=\"line2d_9\">\n      <path clip-path=\"url(#p76d81a40a8)\" d=\"M 228.745312 242.037656 \nL 228.745312 24.597656 \n\" style=\"fill:none;stroke:#808080;stroke-dasharray:0.2,0.33;stroke-dashoffset:0;stroke-width:0.2;\"/>\n     </g>\n     <g id=\"line2d_10\">\n      <g>\n       <use style=\"stroke:#000000;stroke-width:0.8;\" x=\"228.745312\" xlink:href=\"#ma701864fd2\" y=\"242.037656\"/>\n      </g>\n     </g>\n     <g id=\"text_5\">\n      <!-- 4 -->\n      <g transform=\"translate(225.564062 256.636094)scale(0.1 -0.1)\">\n       <defs>\n        <path d=\"M 2419 4116 \nL 825 1625 \nL 2419 1625 \nL 2419 4116 \nz\nM 2253 4666 \nL 3047 4666 \nL 3047 1625 \nL 3713 1625 \nL 3713 1100 \nL 3047 1100 \nL 3047 0 \nL 2419 0 \nL 2419 1100 \nL 313 1100 \nL 313 1709 \nL 2253 4666 \nz\n\" id=\"DejaVuSans-34\" transform=\"scale(0.015625)\"/>\n       </defs>\n       <use xlink:href=\"#DejaVuSans-34\"/>\n      </g>\n     </g>\n    </g>\n    <g id=\"xtick_6\">\n     <g id=\"line2d_11\">\n      <path clip-path=\"url(#p76d81a40a8)\" d=\"M 266.790767 242.037656 \nL 266.790767 24.597656 \n\" style=\"fill:none;stroke:#808080;stroke-dasharray:0.2,0.33;stroke-dashoffset:0;stroke-width:0.2;\"/>\n     </g>\n     <g id=\"line2d_12\">\n      <g>\n       <use style=\"stroke:#000000;stroke-width:0.8;\" x=\"266.790767\" xlink:href=\"#ma701864fd2\" y=\"242.037656\"/>\n      </g>\n     </g>\n     <g id=\"text_6\">\n      <!-- 5 -->\n      <g transform=\"translate(263.609517 256.636094)scale(0.1 -0.1)\">\n       <defs>\n        <path d=\"M 691 4666 \nL 3169 4666 \nL 3169 4134 \nL 1269 4134 \nL 1269 2991 \nQ 1406 3038 1543 3061 \nQ 1681 3084 1819 3084 \nQ 2600 3084 3056 2656 \nQ 3513 2228 3513 1497 \nQ 3513 744 3044 326 \nQ 2575 -91 1722 -91 \nQ 1428 -91 1123 -41 \nQ 819 9 494 109 \nL 494 744 \nQ 775 591 1075 516 \nQ 1375 441 1709 441 \nQ 2250 441 2565 725 \nQ 2881 1009 2881 1497 \nQ 2881 1984 2565 2268 \nQ 2250 2553 1709 2553 \nQ 1456 2553 1204 2497 \nQ 953 2441 691 2322 \nL 691 4666 \nz\n\" id=\"DejaVuSans-35\" transform=\"scale(0.015625)\"/>\n       </defs>\n       <use xlink:href=\"#DejaVuSans-35\"/>\n      </g>\n     </g>\n    </g>\n    <g id=\"xtick_7\">\n     <g id=\"line2d_13\">\n      <path clip-path=\"url(#p76d81a40a8)\" d=\"M 304.836222 242.037656 \nL 304.836222 24.597656 \n\" style=\"fill:none;stroke:#808080;stroke-dasharray:0.2,0.33;stroke-dashoffset:0;stroke-width:0.2;\"/>\n     </g>\n     <g id=\"line2d_14\">\n      <g>\n       <use style=\"stroke:#000000;stroke-width:0.8;\" x=\"304.836222\" xlink:href=\"#ma701864fd2\" y=\"242.037656\"/>\n      </g>\n     </g>\n     <g id=\"text_7\">\n      <!-- 6 -->\n      <g transform=\"translate(301.654972 256.636094)scale(0.1 -0.1)\">\n       <defs>\n        <path d=\"M 2113 2584 \nQ 1688 2584 1439 2293 \nQ 1191 2003 1191 1497 \nQ 1191 994 1439 701 \nQ 1688 409 2113 409 \nQ 2538 409 2786 701 \nQ 3034 994 3034 1497 \nQ 3034 2003 2786 2293 \nQ 2538 2584 2113 2584 \nz\nM 3366 4563 \nL 3366 3988 \nQ 3128 4100 2886 4159 \nQ 2644 4219 2406 4219 \nQ 1781 4219 1451 3797 \nQ 1122 3375 1075 2522 \nQ 1259 2794 1537 2939 \nQ 1816 3084 2150 3084 \nQ 2853 3084 3261 2657 \nQ 3669 2231 3669 1497 \nQ 3669 778 3244 343 \nQ 2819 -91 2113 -91 \nQ 1303 -91 875 529 \nQ 447 1150 447 2328 \nQ 447 3434 972 4092 \nQ 1497 4750 2381 4750 \nQ 2619 4750 2861 4703 \nQ 3103 4656 3366 4563 \nz\n\" id=\"DejaVuSans-36\" transform=\"scale(0.015625)\"/>\n       </defs>\n       <use xlink:href=\"#DejaVuSans-36\"/>\n      </g>\n     </g>\n    </g>\n    <g id=\"xtick_8\">\n     <g id=\"line2d_15\">\n      <path clip-path=\"url(#p76d81a40a8)\" d=\"M 342.881676 242.037656 \nL 342.881676 24.597656 \n\" style=\"fill:none;stroke:#808080;stroke-dasharray:0.2,0.33;stroke-dashoffset:0;stroke-width:0.2;\"/>\n     </g>\n     <g id=\"line2d_16\">\n      <g>\n       <use style=\"stroke:#000000;stroke-width:0.8;\" x=\"342.881676\" xlink:href=\"#ma701864fd2\" y=\"242.037656\"/>\n      </g>\n     </g>\n     <g id=\"text_8\">\n      <!-- 7 -->\n      <g transform=\"translate(339.700426 256.636094)scale(0.1 -0.1)\">\n       <defs>\n        <path d=\"M 525 4666 \nL 3525 4666 \nL 3525 4397 \nL 1831 0 \nL 1172 0 \nL 2766 4134 \nL 525 4134 \nL 525 4666 \nz\n\" id=\"DejaVuSans-37\" transform=\"scale(0.015625)\"/>\n       </defs>\n       <use xlink:href=\"#DejaVuSans-37\"/>\n      </g>\n     </g>\n    </g>\n    <g id=\"xtick_9\">\n     <g id=\"line2d_17\">\n      <path clip-path=\"url(#p76d81a40a8)\" d=\"M 380.927131 242.037656 \nL 380.927131 24.597656 \n\" style=\"fill:none;stroke:#808080;stroke-dasharray:0.2,0.33;stroke-dashoffset:0;stroke-width:0.2;\"/>\n     </g>\n     <g id=\"line2d_18\">\n      <g>\n       <use style=\"stroke:#000000;stroke-width:0.8;\" x=\"380.927131\" xlink:href=\"#ma701864fd2\" y=\"242.037656\"/>\n      </g>\n     </g>\n     <g id=\"text_9\">\n      <!-- 8 -->\n      <g transform=\"translate(377.745881 256.636094)scale(0.1 -0.1)\">\n       <defs>\n        <path d=\"M 2034 2216 \nQ 1584 2216 1326 1975 \nQ 1069 1734 1069 1313 \nQ 1069 891 1326 650 \nQ 1584 409 2034 409 \nQ 2484 409 2743 651 \nQ 3003 894 3003 1313 \nQ 3003 1734 2745 1975 \nQ 2488 2216 2034 2216 \nz\nM 1403 2484 \nQ 997 2584 770 2862 \nQ 544 3141 544 3541 \nQ 544 4100 942 4425 \nQ 1341 4750 2034 4750 \nQ 2731 4750 3128 4425 \nQ 3525 4100 3525 3541 \nQ 3525 3141 3298 2862 \nQ 3072 2584 2669 2484 \nQ 3125 2378 3379 2068 \nQ 3634 1759 3634 1313 \nQ 3634 634 3220 271 \nQ 2806 -91 2034 -91 \nQ 1263 -91 848 271 \nQ 434 634 434 1313 \nQ 434 1759 690 2068 \nQ 947 2378 1403 2484 \nz\nM 1172 3481 \nQ 1172 3119 1398 2916 \nQ 1625 2713 2034 2713 \nQ 2441 2713 2670 2916 \nQ 2900 3119 2900 3481 \nQ 2900 3844 2670 4047 \nQ 2441 4250 2034 4250 \nQ 1625 4250 1398 4047 \nQ 1172 3844 1172 3481 \nz\n\" id=\"DejaVuSans-38\" transform=\"scale(0.015625)\"/>\n       </defs>\n       <use xlink:href=\"#DejaVuSans-38\"/>\n      </g>\n     </g>\n    </g>\n    <g id=\"text_10\">\n     <!-- Time (days) -->\n     <g transform=\"translate(184.455469 274.113438)scale(0.15 -0.15)\">\n      <defs>\n       <path d=\"M -19 4666 \nL 3928 4666 \nL 3928 4134 \nL 2272 4134 \nL 2272 0 \nL 1638 0 \nL 1638 4134 \nL -19 4134 \nL -19 4666 \nz\n\" id=\"DejaVuSans-54\" transform=\"scale(0.015625)\"/>\n       <path d=\"M 603 3500 \nL 1178 3500 \nL 1178 0 \nL 603 0 \nL 603 3500 \nz\nM 603 4863 \nL 1178 4863 \nL 1178 4134 \nL 603 4134 \nL 603 4863 \nz\n\" id=\"DejaVuSans-69\" transform=\"scale(0.015625)\"/>\n       <path d=\"M 3328 2828 \nQ 3544 3216 3844 3400 \nQ 4144 3584 4550 3584 \nQ 5097 3584 5394 3201 \nQ 5691 2819 5691 2113 \nL 5691 0 \nL 5113 0 \nL 5113 2094 \nQ 5113 2597 4934 2840 \nQ 4756 3084 4391 3084 \nQ 3944 3084 3684 2787 \nQ 3425 2491 3425 1978 \nL 3425 0 \nL 2847 0 \nL 2847 2094 \nQ 2847 2600 2669 2842 \nQ 2491 3084 2119 3084 \nQ 1678 3084 1418 2786 \nQ 1159 2488 1159 1978 \nL 1159 0 \nL 581 0 \nL 581 3500 \nL 1159 3500 \nL 1159 2956 \nQ 1356 3278 1631 3431 \nQ 1906 3584 2284 3584 \nQ 2666 3584 2933 3390 \nQ 3200 3197 3328 2828 \nz\n\" id=\"DejaVuSans-6d\" transform=\"scale(0.015625)\"/>\n       <path d=\"M 3597 1894 \nL 3597 1613 \nL 953 1613 \nQ 991 1019 1311 708 \nQ 1631 397 2203 397 \nQ 2534 397 2845 478 \nQ 3156 559 3463 722 \nL 3463 178 \nQ 3153 47 2828 -22 \nQ 2503 -91 2169 -91 \nQ 1331 -91 842 396 \nQ 353 884 353 1716 \nQ 353 2575 817 3079 \nQ 1281 3584 2069 3584 \nQ 2775 3584 3186 3129 \nQ 3597 2675 3597 1894 \nz\nM 3022 2063 \nQ 3016 2534 2758 2815 \nQ 2500 3097 2075 3097 \nQ 1594 3097 1305 2825 \nQ 1016 2553 972 2059 \nL 3022 2063 \nz\n\" id=\"DejaVuSans-65\" transform=\"scale(0.015625)\"/>\n       <path id=\"DejaVuSans-20\" transform=\"scale(0.015625)\"/>\n       <path d=\"M 1984 4856 \nQ 1566 4138 1362 3434 \nQ 1159 2731 1159 2009 \nQ 1159 1288 1364 580 \nQ 1569 -128 1984 -844 \nL 1484 -844 \nQ 1016 -109 783 600 \nQ 550 1309 550 2009 \nQ 550 2706 781 3412 \nQ 1013 4119 1484 4856 \nL 1984 4856 \nz\n\" id=\"DejaVuSans-28\" transform=\"scale(0.015625)\"/>\n       <path d=\"M 2906 2969 \nL 2906 4863 \nL 3481 4863 \nL 3481 0 \nL 2906 0 \nL 2906 525 \nQ 2725 213 2448 61 \nQ 2172 -91 1784 -91 \nQ 1150 -91 751 415 \nQ 353 922 353 1747 \nQ 353 2572 751 3078 \nQ 1150 3584 1784 3584 \nQ 2172 3584 2448 3432 \nQ 2725 3281 2906 2969 \nz\nM 947 1747 \nQ 947 1113 1208 752 \nQ 1469 391 1925 391 \nQ 2381 391 2643 752 \nQ 2906 1113 2906 1747 \nQ 2906 2381 2643 2742 \nQ 2381 3103 1925 3103 \nQ 1469 3103 1208 2742 \nQ 947 2381 947 1747 \nz\n\" id=\"DejaVuSans-64\" transform=\"scale(0.015625)\"/>\n       <path d=\"M 2194 1759 \nQ 1497 1759 1228 1600 \nQ 959 1441 959 1056 \nQ 959 750 1161 570 \nQ 1363 391 1709 391 \nQ 2188 391 2477 730 \nQ 2766 1069 2766 1631 \nL 2766 1759 \nL 2194 1759 \nz\nM 3341 1997 \nL 3341 0 \nL 2766 0 \nL 2766 531 \nQ 2569 213 2275 61 \nQ 1981 -91 1556 -91 \nQ 1019 -91 701 211 \nQ 384 513 384 1019 \nQ 384 1609 779 1909 \nQ 1175 2209 1959 2209 \nL 2766 2209 \nL 2766 2266 \nQ 2766 2663 2505 2880 \nQ 2244 3097 1772 3097 \nQ 1472 3097 1187 3025 \nQ 903 2953 641 2809 \nL 641 3341 \nQ 956 3463 1253 3523 \nQ 1550 3584 1831 3584 \nQ 2591 3584 2966 3190 \nQ 3341 2797 3341 1997 \nz\n\" id=\"DejaVuSans-61\" transform=\"scale(0.015625)\"/>\n       <path d=\"M 2059 -325 \nQ 1816 -950 1584 -1140 \nQ 1353 -1331 966 -1331 \nL 506 -1331 \nL 506 -850 \nL 844 -850 \nQ 1081 -850 1212 -737 \nQ 1344 -625 1503 -206 \nL 1606 56 \nL 191 3500 \nL 800 3500 \nL 1894 763 \nL 2988 3500 \nL 3597 3500 \nL 2059 -325 \nz\n\" id=\"DejaVuSans-79\" transform=\"scale(0.015625)\"/>\n       <path d=\"M 2834 3397 \nL 2834 2853 \nQ 2591 2978 2328 3040 \nQ 2066 3103 1784 3103 \nQ 1356 3103 1142 2972 \nQ 928 2841 928 2578 \nQ 928 2378 1081 2264 \nQ 1234 2150 1697 2047 \nL 1894 2003 \nQ 2506 1872 2764 1633 \nQ 3022 1394 3022 966 \nQ 3022 478 2636 193 \nQ 2250 -91 1575 -91 \nQ 1294 -91 989 -36 \nQ 684 19 347 128 \nL 347 722 \nQ 666 556 975 473 \nQ 1284 391 1588 391 \nQ 1994 391 2212 530 \nQ 2431 669 2431 922 \nQ 2431 1156 2273 1281 \nQ 2116 1406 1581 1522 \nL 1381 1569 \nQ 847 1681 609 1914 \nQ 372 2147 372 2553 \nQ 372 3047 722 3315 \nQ 1072 3584 1716 3584 \nQ 2034 3584 2315 3537 \nQ 2597 3491 2834 3397 \nz\n\" id=\"DejaVuSans-73\" transform=\"scale(0.015625)\"/>\n       <path d=\"M 513 4856 \nL 1013 4856 \nQ 1481 4119 1714 3412 \nQ 1947 2706 1947 2009 \nQ 1947 1309 1714 600 \nQ 1481 -109 1013 -844 \nL 513 -844 \nQ 928 -128 1133 580 \nQ 1338 1288 1338 2009 \nQ 1338 2731 1133 3434 \nQ 928 4138 513 4856 \nz\n\" id=\"DejaVuSans-29\" transform=\"scale(0.015625)\"/>\n      </defs>\n      <use xlink:href=\"#DejaVuSans-54\"/>\n      <use x=\"57.958984\" xlink:href=\"#DejaVuSans-69\"/>\n      <use x=\"85.742188\" xlink:href=\"#DejaVuSans-6d\"/>\n      <use x=\"183.154297\" xlink:href=\"#DejaVuSans-65\"/>\n      <use x=\"244.677734\" xlink:href=\"#DejaVuSans-20\"/>\n      <use x=\"276.464844\" xlink:href=\"#DejaVuSans-28\"/>\n      <use x=\"315.478516\" xlink:href=\"#DejaVuSans-64\"/>\n      <use x=\"378.955078\" xlink:href=\"#DejaVuSans-61\"/>\n      <use x=\"440.234375\" xlink:href=\"#DejaVuSans-79\"/>\n      <use x=\"499.414062\" xlink:href=\"#DejaVuSans-73\"/>\n      <use x=\"551.513672\" xlink:href=\"#DejaVuSans-29\"/>\n     </g>\n    </g>\n   </g>\n   <g id=\"matplotlib.axis_2\">\n    <g id=\"ytick_1\">\n     <g id=\"line2d_19\">\n      <path clip-path=\"url(#p76d81a40a8)\" d=\"M 61.345313 224.487244 \nL 396.145312 224.487244 \n\" style=\"fill:none;stroke:#808080;stroke-dasharray:0.2,0.33;stroke-dashoffset:0;stroke-width:0.2;\"/>\n     </g>\n     <g id=\"line2d_20\">\n      <defs>\n       <path d=\"M 0 0 \nL -3.5 0 \n\" id=\"mbe6ec8eff2\" style=\"stroke:#000000;stroke-width:0.8;\"/>\n      </defs>\n      <g>\n       <use style=\"stroke:#000000;stroke-width:0.8;\" x=\"61.345313\" xlink:href=\"#mbe6ec8eff2\" y=\"224.487244\"/>\n      </g>\n     </g>\n     <g id=\"text_11\">\n      <!-- 0.988 -->\n      <g transform=\"translate(25.717188 228.286463)scale(0.1 -0.1)\">\n       <defs>\n        <path d=\"M 684 794 \nL 1344 794 \nL 1344 0 \nL 684 0 \nL 684 794 \nz\n\" id=\"DejaVuSans-2e\" transform=\"scale(0.015625)\"/>\n        <path d=\"M 703 97 \nL 703 672 \nQ 941 559 1184 500 \nQ 1428 441 1663 441 \nQ 2288 441 2617 861 \nQ 2947 1281 2994 2138 \nQ 2813 1869 2534 1725 \nQ 2256 1581 1919 1581 \nQ 1219 1581 811 2004 \nQ 403 2428 403 3163 \nQ 403 3881 828 4315 \nQ 1253 4750 1959 4750 \nQ 2769 4750 3195 4129 \nQ 3622 3509 3622 2328 \nQ 3622 1225 3098 567 \nQ 2575 -91 1691 -91 \nQ 1453 -91 1209 -44 \nQ 966 3 703 97 \nz\nM 1959 2075 \nQ 2384 2075 2632 2365 \nQ 2881 2656 2881 3163 \nQ 2881 3666 2632 3958 \nQ 2384 4250 1959 4250 \nQ 1534 4250 1286 3958 \nQ 1038 3666 1038 3163 \nQ 1038 2656 1286 2365 \nQ 1534 2075 1959 2075 \nz\n\" id=\"DejaVuSans-39\" transform=\"scale(0.015625)\"/>\n       </defs>\n       <use xlink:href=\"#DejaVuSans-30\"/>\n       <use x=\"63.623047\" xlink:href=\"#DejaVuSans-2e\"/>\n       <use x=\"95.410156\" xlink:href=\"#DejaVuSans-39\"/>\n       <use x=\"159.033203\" xlink:href=\"#DejaVuSans-38\"/>\n       <use x=\"222.65625\" xlink:href=\"#DejaVuSans-38\"/>\n      </g>\n     </g>\n    </g>\n    <g id=\"ytick_2\">\n     <g id=\"line2d_21\">\n      <path clip-path=\"url(#p76d81a40a8)\" d=\"M 61.345313 192.819586 \nL 396.145312 192.819586 \n\" style=\"fill:none;stroke:#808080;stroke-dasharray:0.2,0.33;stroke-dashoffset:0;stroke-width:0.2;\"/>\n     </g>\n     <g id=\"line2d_22\">\n      <g>\n       <use style=\"stroke:#000000;stroke-width:0.8;\" x=\"61.345313\" xlink:href=\"#mbe6ec8eff2\" y=\"192.819586\"/>\n      </g>\n     </g>\n     <g id=\"text_12\">\n      <!-- 0.990 -->\n      <g transform=\"translate(25.717188 196.618804)scale(0.1 -0.1)\">\n       <use xlink:href=\"#DejaVuSans-30\"/>\n       <use x=\"63.623047\" xlink:href=\"#DejaVuSans-2e\"/>\n       <use x=\"95.410156\" xlink:href=\"#DejaVuSans-39\"/>\n       <use x=\"159.033203\" xlink:href=\"#DejaVuSans-39\"/>\n       <use x=\"222.65625\" xlink:href=\"#DejaVuSans-30\"/>\n      </g>\n     </g>\n    </g>\n    <g id=\"ytick_3\">\n     <g id=\"line2d_23\">\n      <path clip-path=\"url(#p76d81a40a8)\" d=\"M 61.345313 161.151927 \nL 396.145312 161.151927 \n\" style=\"fill:none;stroke:#808080;stroke-dasharray:0.2,0.33;stroke-dashoffset:0;stroke-width:0.2;\"/>\n     </g>\n     <g id=\"line2d_24\">\n      <g>\n       <use style=\"stroke:#000000;stroke-width:0.8;\" x=\"61.345313\" xlink:href=\"#mbe6ec8eff2\" y=\"161.151927\"/>\n      </g>\n     </g>\n     <g id=\"text_13\">\n      <!-- 0.992 -->\n      <g transform=\"translate(25.717188 164.951146)scale(0.1 -0.1)\">\n       <use xlink:href=\"#DejaVuSans-30\"/>\n       <use x=\"63.623047\" xlink:href=\"#DejaVuSans-2e\"/>\n       <use x=\"95.410156\" xlink:href=\"#DejaVuSans-39\"/>\n       <use x=\"159.033203\" xlink:href=\"#DejaVuSans-39\"/>\n       <use x=\"222.65625\" xlink:href=\"#DejaVuSans-32\"/>\n      </g>\n     </g>\n    </g>\n    <g id=\"ytick_4\">\n     <g id=\"line2d_25\">\n      <path clip-path=\"url(#p76d81a40a8)\" d=\"M 61.345313 129.484268 \nL 396.145312 129.484268 \n\" style=\"fill:none;stroke:#808080;stroke-dasharray:0.2,0.33;stroke-dashoffset:0;stroke-width:0.2;\"/>\n     </g>\n     <g id=\"line2d_26\">\n      <g>\n       <use style=\"stroke:#000000;stroke-width:0.8;\" x=\"61.345313\" xlink:href=\"#mbe6ec8eff2\" y=\"129.484268\"/>\n      </g>\n     </g>\n     <g id=\"text_14\">\n      <!-- 0.994 -->\n      <g transform=\"translate(25.717188 133.283487)scale(0.1 -0.1)\">\n       <use xlink:href=\"#DejaVuSans-30\"/>\n       <use x=\"63.623047\" xlink:href=\"#DejaVuSans-2e\"/>\n       <use x=\"95.410156\" xlink:href=\"#DejaVuSans-39\"/>\n       <use x=\"159.033203\" xlink:href=\"#DejaVuSans-39\"/>\n       <use x=\"222.65625\" xlink:href=\"#DejaVuSans-34\"/>\n      </g>\n     </g>\n    </g>\n    <g id=\"ytick_5\">\n     <g id=\"line2d_27\">\n      <path clip-path=\"url(#p76d81a40a8)\" d=\"M 61.345313 97.81661 \nL 396.145312 97.81661 \n\" style=\"fill:none;stroke:#808080;stroke-dasharray:0.2,0.33;stroke-dashoffset:0;stroke-width:0.2;\"/>\n     </g>\n     <g id=\"line2d_28\">\n      <g>\n       <use style=\"stroke:#000000;stroke-width:0.8;\" x=\"61.345313\" xlink:href=\"#mbe6ec8eff2\" y=\"97.81661\"/>\n      </g>\n     </g>\n     <g id=\"text_15\">\n      <!-- 0.996 -->\n      <g transform=\"translate(25.717188 101.615829)scale(0.1 -0.1)\">\n       <use xlink:href=\"#DejaVuSans-30\"/>\n       <use x=\"63.623047\" xlink:href=\"#DejaVuSans-2e\"/>\n       <use x=\"95.410156\" xlink:href=\"#DejaVuSans-39\"/>\n       <use x=\"159.033203\" xlink:href=\"#DejaVuSans-39\"/>\n       <use x=\"222.65625\" xlink:href=\"#DejaVuSans-36\"/>\n      </g>\n     </g>\n    </g>\n    <g id=\"ytick_6\">\n     <g id=\"line2d_29\">\n      <path clip-path=\"url(#p76d81a40a8)\" d=\"M 61.345313 66.148951 \nL 396.145312 66.148951 \n\" style=\"fill:none;stroke:#808080;stroke-dasharray:0.2,0.33;stroke-dashoffset:0;stroke-width:0.2;\"/>\n     </g>\n     <g id=\"line2d_30\">\n      <g>\n       <use style=\"stroke:#000000;stroke-width:0.8;\" x=\"61.345313\" xlink:href=\"#mbe6ec8eff2\" y=\"66.148951\"/>\n      </g>\n     </g>\n     <g id=\"text_16\">\n      <!-- 0.998 -->\n      <g transform=\"translate(25.717188 69.94817)scale(0.1 -0.1)\">\n       <use xlink:href=\"#DejaVuSans-30\"/>\n       <use x=\"63.623047\" xlink:href=\"#DejaVuSans-2e\"/>\n       <use x=\"95.410156\" xlink:href=\"#DejaVuSans-39\"/>\n       <use x=\"159.033203\" xlink:href=\"#DejaVuSans-39\"/>\n       <use x=\"222.65625\" xlink:href=\"#DejaVuSans-38\"/>\n      </g>\n     </g>\n    </g>\n    <g id=\"ytick_7\">\n     <g id=\"line2d_31\">\n      <path clip-path=\"url(#p76d81a40a8)\" d=\"M 61.345313 34.481293 \nL 396.145312 34.481293 \n\" style=\"fill:none;stroke:#808080;stroke-dasharray:0.2,0.33;stroke-dashoffset:0;stroke-width:0.2;\"/>\n     </g>\n     <g id=\"line2d_32\">\n      <g>\n       <use style=\"stroke:#000000;stroke-width:0.8;\" x=\"61.345313\" xlink:href=\"#mbe6ec8eff2\" y=\"34.481293\"/>\n      </g>\n     </g>\n     <g id=\"text_17\">\n      <!-- 1.000 -->\n      <g transform=\"translate(25.717188 38.280511)scale(0.1 -0.1)\">\n       <use xlink:href=\"#DejaVuSans-31\"/>\n       <use x=\"63.623047\" xlink:href=\"#DejaVuSans-2e\"/>\n       <use x=\"95.410156\" xlink:href=\"#DejaVuSans-30\"/>\n       <use x=\"159.033203\" xlink:href=\"#DejaVuSans-30\"/>\n       <use x=\"222.65625\" xlink:href=\"#DejaVuSans-30\"/>\n      </g>\n     </g>\n    </g>\n    <g id=\"text_18\">\n     <!-- Stellar relative flux -->\n     <g transform=\"translate(18.597656 204.450469)rotate(-90)scale(0.15 -0.15)\">\n      <defs>\n       <path d=\"M 3425 4513 \nL 3425 3897 \nQ 3066 4069 2747 4153 \nQ 2428 4238 2131 4238 \nQ 1616 4238 1336 4038 \nQ 1056 3838 1056 3469 \nQ 1056 3159 1242 3001 \nQ 1428 2844 1947 2747 \nL 2328 2669 \nQ 3034 2534 3370 2195 \nQ 3706 1856 3706 1288 \nQ 3706 609 3251 259 \nQ 2797 -91 1919 -91 \nQ 1588 -91 1214 -16 \nQ 841 59 441 206 \nL 441 856 \nQ 825 641 1194 531 \nQ 1563 422 1919 422 \nQ 2459 422 2753 634 \nQ 3047 847 3047 1241 \nQ 3047 1584 2836 1778 \nQ 2625 1972 2144 2069 \nL 1759 2144 \nQ 1053 2284 737 2584 \nQ 422 2884 422 3419 \nQ 422 4038 858 4394 \nQ 1294 4750 2059 4750 \nQ 2388 4750 2728 4690 \nQ 3069 4631 3425 4513 \nz\n\" id=\"DejaVuSans-53\" transform=\"scale(0.015625)\"/>\n       <path d=\"M 1172 4494 \nL 1172 3500 \nL 2356 3500 \nL 2356 3053 \nL 1172 3053 \nL 1172 1153 \nQ 1172 725 1289 603 \nQ 1406 481 1766 481 \nL 2356 481 \nL 2356 0 \nL 1766 0 \nQ 1100 0 847 248 \nQ 594 497 594 1153 \nL 594 3053 \nL 172 3053 \nL 172 3500 \nL 594 3500 \nL 594 4494 \nL 1172 4494 \nz\n\" id=\"DejaVuSans-74\" transform=\"scale(0.015625)\"/>\n       <path d=\"M 603 4863 \nL 1178 4863 \nL 1178 0 \nL 603 0 \nL 603 4863 \nz\n\" id=\"DejaVuSans-6c\" transform=\"scale(0.015625)\"/>\n       <path d=\"M 2631 2963 \nQ 2534 3019 2420 3045 \nQ 2306 3072 2169 3072 \nQ 1681 3072 1420 2755 \nQ 1159 2438 1159 1844 \nL 1159 0 \nL 581 0 \nL 581 3500 \nL 1159 3500 \nL 1159 2956 \nQ 1341 3275 1631 3429 \nQ 1922 3584 2338 3584 \nQ 2397 3584 2469 3576 \nQ 2541 3569 2628 3553 \nL 2631 2963 \nz\n\" id=\"DejaVuSans-72\" transform=\"scale(0.015625)\"/>\n       <path d=\"M 191 3500 \nL 800 3500 \nL 1894 563 \nL 2988 3500 \nL 3597 3500 \nL 2284 0 \nL 1503 0 \nL 191 3500 \nz\n\" id=\"DejaVuSans-76\" transform=\"scale(0.015625)\"/>\n       <path d=\"M 2375 4863 \nL 2375 4384 \nL 1825 4384 \nQ 1516 4384 1395 4259 \nQ 1275 4134 1275 3809 \nL 1275 3500 \nL 2222 3500 \nL 2222 3053 \nL 1275 3053 \nL 1275 0 \nL 697 0 \nL 697 3053 \nL 147 3053 \nL 147 3500 \nL 697 3500 \nL 697 3744 \nQ 697 4328 969 4595 \nQ 1241 4863 1831 4863 \nL 2375 4863 \nz\n\" id=\"DejaVuSans-66\" transform=\"scale(0.015625)\"/>\n       <path d=\"M 544 1381 \nL 544 3500 \nL 1119 3500 \nL 1119 1403 \nQ 1119 906 1312 657 \nQ 1506 409 1894 409 \nQ 2359 409 2629 706 \nQ 2900 1003 2900 1516 \nL 2900 3500 \nL 3475 3500 \nL 3475 0 \nL 2900 0 \nL 2900 538 \nQ 2691 219 2414 64 \nQ 2138 -91 1772 -91 \nQ 1169 -91 856 284 \nQ 544 659 544 1381 \nz\nM 1991 3584 \nL 1991 3584 \nz\n\" id=\"DejaVuSans-75\" transform=\"scale(0.015625)\"/>\n       <path d=\"M 3513 3500 \nL 2247 1797 \nL 3578 0 \nL 2900 0 \nL 1881 1375 \nL 863 0 \nL 184 0 \nL 1544 1831 \nL 300 3500 \nL 978 3500 \nL 1906 2253 \nL 2834 3500 \nL 3513 3500 \nz\n\" id=\"DejaVuSans-78\" transform=\"scale(0.015625)\"/>\n      </defs>\n      <use xlink:href=\"#DejaVuSans-53\"/>\n      <use x=\"63.476562\" xlink:href=\"#DejaVuSans-74\"/>\n      <use x=\"102.685547\" xlink:href=\"#DejaVuSans-65\"/>\n      <use x=\"164.208984\" xlink:href=\"#DejaVuSans-6c\"/>\n      <use x=\"191.992188\" xlink:href=\"#DejaVuSans-6c\"/>\n      <use x=\"219.775391\" xlink:href=\"#DejaVuSans-61\"/>\n      <use x=\"281.054688\" xlink:href=\"#DejaVuSans-72\"/>\n      <use x=\"322.167969\" xlink:href=\"#DejaVuSans-20\"/>\n      <use x=\"353.955078\" xlink:href=\"#DejaVuSans-72\"/>\n      <use x=\"392.818359\" xlink:href=\"#DejaVuSans-65\"/>\n      <use x=\"454.341797\" xlink:href=\"#DejaVuSans-6c\"/>\n      <use x=\"482.125\" xlink:href=\"#DejaVuSans-61\"/>\n      <use x=\"543.404297\" xlink:href=\"#DejaVuSans-74\"/>\n      <use x=\"582.613281\" xlink:href=\"#DejaVuSans-69\"/>\n      <use x=\"610.396484\" xlink:href=\"#DejaVuSans-76\"/>\n      <use x=\"669.576172\" xlink:href=\"#DejaVuSans-65\"/>\n      <use x=\"731.099609\" xlink:href=\"#DejaVuSans-20\"/>\n      <use x=\"762.886719\" xlink:href=\"#DejaVuSans-66\"/>\n      <use x=\"798.091797\" xlink:href=\"#DejaVuSans-6c\"/>\n      <use x=\"825.875\" xlink:href=\"#DejaVuSans-75\"/>\n      <use x=\"889.253906\" xlink:href=\"#DejaVuSans-78\"/>\n     </g>\n    </g>\n   </g>\n   <g id=\"line2d_33\">\n    <path clip-path=\"url(#p76d81a40a8)\" d=\"M 76.563494 34.481293 \nL 169.487327 34.481293 \nL 169.791996 36.132587 \nL 170.096664 40.393701 \nL 170.706 53.973584 \nL 171.620005 83.236128 \nL 173.752684 160.45063 \nL 174.36202 169.896014 \nL 175.276025 180.627002 \nL 176.19003 189.110173 \nL 177.408703 198.199624 \nL 178.627376 205.505091 \nL 179.84605 211.484994 \nL 181.064723 216.417837 \nL 182.283396 220.487856 \nL 183.502069 223.823502 \nL 184.720742 226.517222 \nL 185.939416 228.636534 \nL 187.158089 230.230667 \nL 188.072094 231.103172 \nL 188.986099 231.708305 \nL 189.900104 232.059029 \nL 190.814109 232.15402 \nL 191.728113 231.99563 \nL 192.642118 231.584278 \nL 193.556123 230.91023 \nL 194.470128 229.969988 \nL 195.384133 228.751126 \nL 196.602806 226.665915 \nL 197.82148 224.009858 \nL 199.040153 220.716738 \nL 200.258826 216.695932 \nL 201.477499 211.821695 \nL 202.696172 205.914131 \nL 203.914846 198.702393 \nL 205.133519 189.743646 \nL 206.047524 181.404769 \nL 206.961529 170.911229 \nL 207.570865 161.813375 \nL 207.875534 154.534011 \nL 208.789539 121.334595 \nL 210.31288 65.109035 \nL 210.922217 48.2001 \nL 211.531553 37.004734 \nL 211.836222 34.51689 \nL 213.054895 34.481293 \nL 380.927131 34.481293 \nL 380.927131 34.481293 \n\" style=\"fill:none;stroke:#0000ff;stroke-linecap:square;\"/>\n   </g>\n   <g id=\"patch_3\">\n    <path d=\"M 61.345313 242.037656 \nL 61.345313 24.597656 \n\" style=\"fill:none;stroke:#000000;stroke-linecap:square;stroke-linejoin:miter;stroke-width:0.8;\"/>\n   </g>\n   <g id=\"patch_4\">\n    <path d=\"M 396.145312 242.037656 \nL 396.145312 24.597656 \n\" style=\"fill:none;stroke:#000000;stroke-linecap:square;stroke-linejoin:miter;stroke-width:0.8;\"/>\n   </g>\n   <g id=\"patch_5\">\n    <path d=\"M 61.345313 242.037656 \nL 396.145312 242.037656 \n\" style=\"fill:none;stroke:#000000;stroke-linecap:square;stroke-linejoin:miter;stroke-width:0.8;\"/>\n   </g>\n   <g id=\"patch_6\">\n    <path d=\"M 61.345313 24.597656 \nL 396.145312 24.597656 \n\" style=\"fill:none;stroke:#000000;stroke-linecap:square;stroke-linejoin:miter;stroke-width:0.8;\"/>\n   </g>\n   <g id=\"text_19\">\n    <!-- Transit curve -->\n    <g transform=\"translate(180.509766 18.597656)scale(0.15 -0.15)\">\n     <defs>\n      <path d=\"M 3513 2113 \nL 3513 0 \nL 2938 0 \nL 2938 2094 \nQ 2938 2591 2744 2837 \nQ 2550 3084 2163 3084 \nQ 1697 3084 1428 2787 \nQ 1159 2491 1159 1978 \nL 1159 0 \nL 581 0 \nL 581 3500 \nL 1159 3500 \nL 1159 2956 \nQ 1366 3272 1645 3428 \nQ 1925 3584 2291 3584 \nQ 2894 3584 3203 3211 \nQ 3513 2838 3513 2113 \nz\n\" id=\"DejaVuSans-6e\" transform=\"scale(0.015625)\"/>\n      <path d=\"M 3122 3366 \nL 3122 2828 \nQ 2878 2963 2633 3030 \nQ 2388 3097 2138 3097 \nQ 1578 3097 1268 2742 \nQ 959 2388 959 1747 \nQ 959 1106 1268 751 \nQ 1578 397 2138 397 \nQ 2388 397 2633 464 \nQ 2878 531 3122 666 \nL 3122 134 \nQ 2881 22 2623 -34 \nQ 2366 -91 2075 -91 \nQ 1284 -91 818 406 \nQ 353 903 353 1747 \nQ 353 2603 823 3093 \nQ 1294 3584 2113 3584 \nQ 2378 3584 2631 3529 \nQ 2884 3475 3122 3366 \nz\n\" id=\"DejaVuSans-63\" transform=\"scale(0.015625)\"/>\n     </defs>\n     <use xlink:href=\"#DejaVuSans-54\"/>\n     <use x=\"46.333984\" xlink:href=\"#DejaVuSans-72\"/>\n     <use x=\"87.447266\" xlink:href=\"#DejaVuSans-61\"/>\n     <use x=\"148.726562\" xlink:href=\"#DejaVuSans-6e\"/>\n     <use x=\"212.105469\" xlink:href=\"#DejaVuSans-73\"/>\n     <use x=\"264.205078\" xlink:href=\"#DejaVuSans-69\"/>\n     <use x=\"291.988281\" xlink:href=\"#DejaVuSans-74\"/>\n     <use x=\"331.197266\" xlink:href=\"#DejaVuSans-20\"/>\n     <use x=\"362.984375\" xlink:href=\"#DejaVuSans-63\"/>\n     <use x=\"417.964844\" xlink:href=\"#DejaVuSans-75\"/>\n     <use x=\"481.34375\" xlink:href=\"#DejaVuSans-72\"/>\n     <use x=\"522.457031\" xlink:href=\"#DejaVuSans-76\"/>\n     <use x=\"581.636719\" xlink:href=\"#DejaVuSans-65\"/>\n    </g>\n   </g>\n  </g>\n </g>\n <defs>\n  <clipPath id=\"p76d81a40a8\">\n   <rect height=\"217.44\" width=\"334.8\" x=\"61.345313\" y=\"24.597656\"/>\n  </clipPath>\n </defs>\n</svg>\n",
      "image/png": "[encoded data removed]"
     },
     "metadata": {
      "needs_background": "light"
     }
    }
   ],
   "source": [
    "# Create MandelAgolLC object (planet) with circular orbit and quadratic limb darkening\n",
    "planet =  ft.MandelAgolLC(orbit=\"circular\", ld=\"quad\")\n",
    "\n",
    "# Set parameters of planetary system\n",
    "# \"planet\" contains the properties of the plane that determine the transit curve\n",
    "\n",
    "#Parameter 1: Planet orbital period (days)\n",
    "planet[\"per\"] = 6\n",
    "\n",
    "#Parameter 2:Orientation of the planet orbit with respect to the observed\n",
    "# (i=90 degrees, means the planet transits through the middle of the stellar disc)\n",
    "planet[\"i\"] = 90\n",
    "\n",
    "#Parameter 3:Semi-major axis of planetary orbit [stellar radii]\n",
    "planet[\"a\"] = 2\n",
    "\n",
    "#Parameter 4: Time offset of transit center (effectively where is the lowest drop of the stellar flux)\n",
    "planet[\"T0\"] = 3.\n",
    "\n",
    "#Parameter 5: Radius ratio between planet and star.\n",
    "planet[\"p\"] = 0.1\n",
    "\n",
    "#Other parameters (do not modify these -no need to worry about these now)\n",
    "planet[\"linLimb\"] = 0.5\n",
    "planet[\"quadLimb\"] = 0.2\n",
    "planet[\"b\"] = 0.\n",
    "\n",
    "# Choose some time axis\n",
    "# this defines the time sampling (how often do you observe the star)\n",
    "time = np.linspace(0, 8, 1000)\n",
    "\n",
    "# Calculate the time evolution of the stellar brightness using the transit model\n",
    "# The function evaluate acts on \"planet\" to give the stellar_flux vs time\n",
    "stellar_flux = planet.evaluate(time)\n",
    "\n",
    "plt.title (\"Transit curve\", fontsize = 15)\n",
    "plt.xlabel(\"Time (days)\", fontsize = 15)\n",
    "plt.ylabel(\"Stellar relative flux\", fontsize = 15)\n",
    "\n",
    "# put grid on the graph\n",
    "plt.grid(color='grey', linestyle=':', linewidth=0.2)\n",
    "plt.grid(True)\n",
    "\n",
    "# Let's see what happened ...\n",
    "plt.plot(time, stellar_flux, color='blue', linewidth=1)\n",
    "\n",
    "plt.show()"
   ]
  },
  {
   "source": [
    "## Task IIIa: The effect of the size of the planet (optional)\n",
    "\n",
    "Use the above model to plot the transit curves of 2 planets, one with Earth radius and the other with Jupiter radius, orbiting around the Sun. The rest of the properties remain as set above (both have an orbital period of 6 days). Don't forget to label the different curves.\n",
    "\n",
    "You will need the following:\n",
    "\n",
    "Earth radius $R_\\oplus= 3371$ km\n",
    "\n",
    "Jupiter radius $R_J=69,911$ km\n",
    "\n",
    "Solar radius  $R_\\odot=696,340$ km"
   ],
   "cell_type": "markdown",
   "metadata": {}
  },
  {
   "source": [
    "## Task IIIb: The effect of the planet semi-major axis (optional)\n",
    "\n",
    "Create a  Jupiter planet that orbits at a distance 5 times the stellar radius (i.e. planet[\"a\"] = 5). Plot them  on the same graph and compare with the Jupiter from the previous task."
   ],
   "cell_type": "markdown",
   "metadata": {}
  },
  {
   "source": [
    "# EXOPLANETS IV: Finding planets in transit data from the Kepler mission\n",
    "\n",
    "We will use data from NASA's [Kepler space mission](https://www.nasa.gov/mission_pages/kepler/overview/index.html) to discover exoplanets and determine some of their properties. Kepler was a mission that observed hundreds of thousands of stars looking for transits.\n",
    "\n",
    "The data are in the Exoplanets directory on github. They are labeled as EPIC...txt and they correspond to observations of different single stars (these are called *light curves*). These are ascii files and you can open up with an editor. If you open them up you can see that the first line contains the header. There are two columns of data. The first colum shows the time of the observation (in days from the one given on the header; this is the Barycentric Julian Date (BJD)) and the 2nd column the relative stellar flux. \n",
    "\n",
    "\n",
    "Firstly, you need to read these data and put them into two arrays (time and flux). Be careful of the commas in the file! Start with file EPIC206103150.txt which corresponds to star EPIC 206103150. The code to use is given below."
   ],
   "cell_type": "markdown",
   "metadata": {}
  },
  {
   "cell_type": "code",
   "execution_count": 3,
   "metadata": {},
   "outputs": [
    {
     "output_type": "stream",
     "name": "stdout",
     "text": [
      "2913\n"
     ]
    }
   ],
   "source": [
    "import pandas as pd\n",
    "import numpy as np\n",
    "import matplotlib.pyplot as plt\n",
    "\n",
    "data = pd.read_csv('EPIC206103150.txt', delimiter=\",\",usecols=range(2), names=['time','flux'], skiprows=[0])\n",
    "\n",
    "#convert columns to np.arrays\n",
    "time=np.array(data['time'])\n",
    "flux=np.array(data['flux'])\n",
    "\n",
    "#check how many values you have in each array\n",
    "print (np.size(time))"
   ]
  },
  {
   "source": [
    "## Task IV1\n",
    "\n",
    "After you have imported the data plot the stellar relative flux versus time for the whole duration of the observation. Before doing this convert the time from days to hours (transits typically last a few hours). Put labels on your graph."
   ],
   "cell_type": "markdown",
   "metadata": {}
  },
  {
   "source": [
    "## Task IV2\n",
    "\n",
    "Identify how many planets there are in the system. Remember the each planet has a characteristic transit curve (i.e. specific duration, depth). Note that the stellar brightnetss may vary.\n",
    "\n",
    "You many need to change the axis limits in to see smaller planets.\n",
    "\n",
    "Produce a graph for each planet to clearly show two transits per each planet that exists in the system (by changing the limits of x, y axes)"
   ],
   "cell_type": "markdown",
   "metadata": {}
  },
  {
   "source": [
    "## Task IV3\n",
    "\n",
    "Choose 2 transits for one planet. Calculate the the period of the planet and the depth of the transit (note that the relative flux of the star changes with time). You need to focus on two consequtive transits and measure the depth (in relation to the stellar flux before/after the transit) and the time when this happens. To help you with this task, you can take the following suggested steps (you can do it your own way too! be creative!).\n",
    "\n",
    "***Step 1:*** Define a function that plots a transit between two times and fixes the y axis limits (that you can use muplitple times for different transits).\n",
    "\n",
    "***Step 2:*** Define a function that returns the indices of the array for two given times time1 and time2 (i.e. you input time1 and time2 and you get back the corresponding indices of the array with these time values)\n",
    "\n",
    "***Step 3:***  Define a function that returns the average relative stellar flux between two times time1, time2 set by the user (you can use that to calculate the average relative flux before and after the transit)\n",
    "\n",
    "***Step 4:*** Define a fucntion that calculates the time of the transit (where the minimum relative stellar flux occurs) and its *uncorrected depth*, with the user defining the time range to examine (time1, time2 around the transit)\n",
    "\n",
    "***Step 5:*** Using all the above, plot two consequtive transits, and find the period of the planet (time difference between two transits) and the corrected transit depth. \n",
    "\n",
    "(OPTIONAL) There are two planets in EPIC 206103150, so you will have to do this twice, one for each planet (obviously you can use the the same functions)."
   ],
   "cell_type": "markdown",
   "metadata": {}
  },
  {
   "source": [
    "## Task IV4\n",
    "\n",
    "1. Define a function that uses the transit depth and stellar radius and calculate the radius of the planet (use the Equation provided in Exoplanets-III), in units of the radius of Jupiter (note that $1 R_{\\rm J}=0.1R_\\odot$)\n",
    "\n",
    "\n",
    "2. Define a function that uses the transit period and  the stellar radius to calculate the orbital period of the planet (use the 3rd Kepler law, see Exoplanets I) (in AU)\n",
    "\n",
    "3. Calculate the radius and the orbital period of the planet relating to the transit you just analysed (see beginning of Exoplanets III)\n",
    "\n",
    "You will need some information about the properties of the stars that are given in the following table\n",
    "\n",
    "| Stellar name  | Mass (in $M_\\odot$) | Radius (in $R_\\odot$) |\n",
    "| :- | :-: | :-:|\n",
    "| EPIC 206103150 (K2-23) | 1.03 | 1.15 |\n",
    "| EPIC 212803289 (K2-99)| 1.60 | 3.10 |\n",
    "| EPIC 249624646 (K2-290) | 1.19 | 1.51 |"
   ],
   "cell_type": "markdown",
   "metadata": {}
  },
  {
   "source": [
    "## Task IV5 (optional)\n",
    "\n",
    "Repeat this for 2 more systems from the given list (EPIC 212803289,EPIC 249624646). "
   ],
   "cell_type": "markdown",
   "metadata": {}
  },
  {
   "source": [
    "## Task IV6\n",
    "\n",
    "\n",
    "Compare the values you have found with the ones in the literature. You can use any of the below:\n",
    "\n",
    "\n",
    "[Exoplanet.eu](http://exoplanet.eu)\n",
    "\n",
    "[Open Exoplanet Catalogue](http://www.openexoplanetcatalogue.com)\n",
    "\n",
    "[NASA Exoplanet Archive](https://exoplanetarchive.ipac.caltech.edu)\n",
    "\n",
    "Watch out as the parent stars may have more than one names!\n"
   ],
   "cell_type": "markdown",
   "metadata": {}
  },
  {
   "source": [
    "## Task IV7\n",
    " \n",
    "Plot the planets on the distance-Mstar graph (see Exoplanets II) to check whether they are in the habitable zone (assume Earth-like albdedo $A=0.36$).  What if you increase the planet's albedo to 0.85 (i.e. you have a more reflective planet?)"
   ],
   "cell_type": "markdown",
   "metadata": {}
  }
 ]
}