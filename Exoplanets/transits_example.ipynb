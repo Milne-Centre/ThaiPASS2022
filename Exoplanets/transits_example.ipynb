{
 "cells": [
  {
   "cell_type": "code",
   "execution_count": 13,
   "metadata": {},
   "outputs": [
    {
     "name": "stdout",
     "output_type": "stream",
     "text": [
      "------------------------------------\n",
      "Parameters for Component: Occultquad\n",
      "------------------------------------\n",
      "Parameter:        p  Occultquad, [       p], value:            0, free: False, restricted: False, related: False\n",
      "Parameter:        a  Occultquad, [       a], value:            0, free: False, restricted: False, related: False\n",
      "Parameter:        i  Occultquad, [       i], value:            0, free: False, restricted: False, related: False\n",
      "Parameter:       T0  Occultquad, [      T0], value:            0, free: False, restricted: False, related: False\n",
      "Parameter:      per  Occultquad, [     per], value:            0, free: False, restricted: False, related: False\n",
      "Parameter:        b  Occultquad, [       b], value:            0, free: False, restricted: False, related: False\n",
      "Parameter:  linLimb  Occultquad, [ linLimb], value:            0, free: False, restricted: False, related: False\n",
      "Parameter: quadLimb  Occultquad, [quadLimb], value:            0, free: False, restricted: False, related: False\n"
     ]
    },
    {
     "name": "stderr",
     "output_type": "stream",
     "text": [
      "<ipython-input-13-107bda3a631c>:69: MatplotlibDeprecationWarning: Adding an axes using the same arguments as a previous axes currently reuses the earlier instance.  In a future version, a new instance will always be created and returned.  Meanwhile, this warning can be suppressed, and the future behavior ensured, by passing a unique label to each axes instance.\n",
      "  ax = plt.axes()\n"
     ]
    },
    {
     "data": {
      "image/png": "[encoded data removed]",
      "text/plain": [
       "<Figure size 432x288 with 1 Axes>"
      ]
     },
     "metadata": {
      "needs_background": "light"
     },
     "output_type": "display_data"
    }
   ],
   "source": [
    "# Import some unrelated modules\n",
    "import numpy as np\n",
    "import matplotlib.pyplot as plt\n",
    "import matplotlib.ticker as ticker\n",
    "# ... and now the forTrans module\n",
    "from PyAstronomy.modelSuite import forTrans as ft\n",
    "\n",
    "fig = plt.figure(1)\n",
    "ax1 = plt.subplot(111)\n",
    "\n",
    "# Create MandelAgolLC object with\n",
    "# circular orbit and quadratic limb darkening\n",
    "ma = ft.MandelAgolLC(orbit=\"circular\", ld=\"quad\")\n",
    "ma1 = ft.MandelAgolLC(orbit=\"circular\", ld=\"quad\")\n",
    "ma2 = ft.MandelAgolLC(orbit=\"circular\", ld=\"quad\")\n",
    "ma3 = ft.MandelAgolLC(orbit=\"circular\", ld=\"quad\")\n",
    "\n",
    "# See the available parameters and their current values\n",
    "ma.parameterSummary()\n",
    "\n",
    "# Set parameters 1\n",
    "ma1[\"per\"] = 1\n",
    "ma1[\"i\"] = 90.0\n",
    "ma1[\"a\"] = 6.5\n",
    "ma1[\"T0\"] = 0.5\n",
    "ma1[\"p\"] = 0.201\n",
    "ma1[\"linLimb\"] = 0.47\n",
    "ma1[\"quadLimb\"] = 0.24\n",
    "ma1[\"b\"] = 0.\n",
    "\n",
    "\n",
    "# Set parameters 2\n",
    "ma2[\"per\"] = 2\n",
    "ma2[\"i\"] = 90.0\n",
    "ma2[\"a\"] = 6.5\n",
    "ma2[\"T0\"] = 1.0\n",
    "ma2[\"p\"] = 0.155\n",
    "ma2[\"linLimb\"] = 0.47\n",
    "ma2[\"quadLimb\"] = 0.24\n",
    "ma2[\"b\"] = 0.\n",
    "\n",
    "# Set parameters 3\n",
    "ma3[\"per\"] = 4\n",
    "ma3[\"i\"] = 90.0\n",
    "ma3[\"a\"] = 6.5\n",
    "ma3[\"T0\"] = 2.\n",
    "ma3[\"p\"] = 0.09\n",
    "ma3[\"linLimb\"] = 0.47\n",
    "ma3[\"quadLimb\"] = 0.24\n",
    "ma3[\"b\"] = 0.\n",
    "\n",
    "# Choose some time axis\n",
    "time = np.linspace(0, 8, 10000)\n",
    "\n",
    "# ... and calculate model\n",
    "y1 = ma1.evaluate(time)\n",
    "y2 = ma2.evaluate(time)\n",
    "y3 = ma3.evaluate(time)\n",
    "y = ma3.evaluate(time)\n",
    "\n",
    "for i in range(1,10000,1):\n",
    "    y[i]=min(y1[i],y2[i],y3[i])\n",
    "\n",
    "plt.grid(color='grey', linestyle=':', linewidth=0.2)\n",
    "plt.grid(True)\n",
    "#plt.xticks(np.arange(min(time), max(time)+1, 1))\n",
    "\n",
    "\n",
    "ax = plt.axes()\n",
    "ax.xaxis.set_major_locator(ticker.MultipleLocator(1))\n",
    "ax.xaxis.set_minor_locator(ticker.MultipleLocator(0.5))\n",
    "ax.yaxis.set_major_locator(ticker.MultipleLocator(0.01))\n",
    "ax.yaxis.set_minor_locator(ticker.MultipleLocator(0.005))\n",
    "\n",
    "# Let's see what happened ...\n",
    "plt.plot(time, y, color='blue', linewidth=1)\n",
    "\n",
    "\n",
    "\n",
    "\n",
    "plt.xlabel(\"Time (days)\", fontsize = 15)\n",
    "\n",
    "plt.ylabel(\"Stellar relative flux\", fontsize = 15)\n",
    "\n",
    "plt_form = \"pdf\"\n",
    "file_path = \"./\"\n",
    "plt.savefig(file_path+\"transits.\"+plt_form, format=str(plt_form))\n",
    "\n",
    "plt.show()\n",
    "\n",
    "\n"
   ]
  },
  {
   "cell_type": "code",
   "execution_count": null,
   "metadata": {},
   "outputs": [],
   "source": []
  }
 ],
 "metadata": {
  "kernelspec": {
   "display_name": "Python 3.8.3 64-bit",
   "language": "python",
   "name": "python38364bit53400cc805654bd7b3c931ff543ad922"
  },
  "language_info": {
   "codemirror_mode": {
    "name": "ipython",
    "version": 3
   },
   "file_extension": ".py",
   "mimetype": "text/x-python",
   "name": "python",
   "nbconvert_exporter": "python",
   "pygments_lexer": "ipython3",
   "version": "3.8.6"
  }
 },
 "nbformat": 4,
 "nbformat_minor": 4
}
